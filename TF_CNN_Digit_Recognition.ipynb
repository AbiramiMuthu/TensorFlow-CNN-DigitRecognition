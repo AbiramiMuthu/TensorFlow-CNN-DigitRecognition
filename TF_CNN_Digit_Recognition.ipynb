{
  "nbformat": 4,
  "nbformat_minor": 0,
  "metadata": {
    "colab": {
      "name": "TF-CNN-Digit_Recognition.ipynb",
      "provenance": [],
      "collapsed_sections": [],
      "authorship_tag": "ABX9TyM8Jvd+POhq+GTD08LztZIe",
      "include_colab_link": true
    },
    "kernelspec": {
      "name": "python3",
      "display_name": "Python 3"
    },
    "language_info": {
      "name": "python"
    },
    "accelerator": "TPU"
  },
  "cells": [
    {
      "cell_type": "markdown",
      "metadata": {
        "id": "view-in-github",
        "colab_type": "text"
      },
      "source": [
        "<a href=\"https://colab.research.google.com/github/AbiramiMuthu/TensorFlow-CNN-DigitRecognition/blob/main/TF_CNN_Digit_Recognition.ipynb\" target=\"_parent\"><img src=\"https://colab.research.google.com/assets/colab-badge.svg\" alt=\"Open In Colab\"/></a>"
      ]
    },
    {
      "cell_type": "markdown",
      "metadata": {
        "id": "WvFTe9Q3S-6Q"
      },
      "source": [
        "## Import Libraries\n",
        "\n"
      ]
    },
    {
      "cell_type": "code",
      "metadata": {
        "id": "3QFb68M8TEXB"
      },
      "source": [
        "from tensorflow.keras import Sequential\n",
        "from tensorflow.keras.layers import Flatten,Dense,Conv2D,MaxPool2D,Dropout\n",
        "from tensorflow.keras.datasets import mnist\n"
      ],
      "execution_count": 2,
      "outputs": []
    },
    {
      "cell_type": "code",
      "metadata": {
        "id": "GUCEf-QxTYQD"
      },
      "source": [
        "import numpy as np\n",
        "import pandas as pd\n",
        "import matplotlib.pyplot as plt\n"
      ],
      "execution_count": 3,
      "outputs": []
    },
    {
      "cell_type": "markdown",
      "metadata": {
        "id": "iDbLOCJcUEvH"
      },
      "source": [
        "## Load Data"
      ]
    },
    {
      "cell_type": "code",
      "metadata": {
        "id": "b-C4pL4uUChd"
      },
      "source": [
        "(x_train,y_train),(x_test,y_test)=mnist.load_data()"
      ],
      "execution_count": 9,
      "outputs": []
    },
    {
      "cell_type": "code",
      "metadata": {
        "colab": {
          "base_uri": "https://localhost:8080/"
        },
        "id": "-nFcJgu1UTNS",
        "outputId": "82fe6508-80a4-4e94-ef16-96c8e9053a39"
      },
      "source": [
        "x_train.shape"
      ],
      "execution_count": 10,
      "outputs": [
        {
          "output_type": "execute_result",
          "data": {
            "text/plain": [
              "(60000, 28, 28)"
            ]
          },
          "metadata": {
            "tags": []
          },
          "execution_count": 10
        }
      ]
    },
    {
      "cell_type": "code",
      "metadata": {
        "colab": {
          "base_uri": "https://localhost:8080/"
        },
        "id": "hMBM6b4EUVvk",
        "outputId": "adeeeab3-1669-4c9b-b59d-2f2135d34ae5"
      },
      "source": [
        "x_test.shape"
      ],
      "execution_count": 11,
      "outputs": [
        {
          "output_type": "execute_result",
          "data": {
            "text/plain": [
              "(10000, 28, 28)"
            ]
          },
          "metadata": {
            "tags": []
          },
          "execution_count": 11
        }
      ]
    },
    {
      "cell_type": "code",
      "metadata": {
        "colab": {
          "base_uri": "https://localhost:8080/"
        },
        "id": "sqiHhnVgUpgm",
        "outputId": "934e222b-6b72-4e28-ab25-9390623a1c51"
      },
      "source": [
        "np.max(x_train)"
      ],
      "execution_count": 12,
      "outputs": [
        {
          "output_type": "execute_result",
          "data": {
            "text/plain": [
              "255"
            ]
          },
          "metadata": {
            "tags": []
          },
          "execution_count": 12
        }
      ]
    },
    {
      "cell_type": "code",
      "metadata": {
        "id": "41nLDPkZUXtP"
      },
      "source": [
        "#Normalize the values b/w 0-1\n",
        "\n",
        "x_train=x_train/255.0\n",
        "x_test=x_test/255.0"
      ],
      "execution_count": 13,
      "outputs": []
    },
    {
      "cell_type": "code",
      "metadata": {
        "colab": {
          "base_uri": "https://localhost:8080/"
        },
        "id": "7JexlzxqUjg_",
        "outputId": "86a48090-25b4-4502-cce6-1e383ded9167"
      },
      "source": [
        "np.max(x_train)"
      ],
      "execution_count": 14,
      "outputs": [
        {
          "output_type": "execute_result",
          "data": {
            "text/plain": [
              "1.0"
            ]
          },
          "metadata": {
            "tags": []
          },
          "execution_count": 14
        }
      ]
    },
    {
      "cell_type": "code",
      "metadata": {
        "colab": {
          "base_uri": "https://localhost:8080/"
        },
        "id": "DEMZPCyrUmoV",
        "outputId": "4fa4351f-5ca4-4d9b-9cd3-6f7b8575bc38"
      },
      "source": [
        "x_train[0].shape"
      ],
      "execution_count": 15,
      "outputs": [
        {
          "output_type": "execute_result",
          "data": {
            "text/plain": [
              "(60000, 28, 28)"
            ]
          },
          "metadata": {
            "tags": []
          },
          "execution_count": 15
        }
      ]
    },
    {
      "cell_type": "code",
      "metadata": {
        "id": "eW5sC8DrUz7H"
      },
      "source": [
        "#we need to convert to 3 dim bcoz CNN will accept 3-dim values\n",
        "x_train=x_train.reshape(60000,28,28,1)\n",
        "x_test=x_test.reshape(10000,28,28,1)"
      ],
      "execution_count": 16,
      "outputs": []
    },
    {
      "cell_type": "code",
      "metadata": {
        "colab": {
          "base_uri": "https://localhost:8080/"
        },
        "id": "KprKiAMsVLhD",
        "outputId": "498dad61-a464-4395-dfc0-0fadf746507f"
      },
      "source": [
        "x_train[0].shape"
      ],
      "execution_count": 18,
      "outputs": [
        {
          "output_type": "execute_result",
          "data": {
            "text/plain": [
              "(28, 28, 1)"
            ]
          },
          "metadata": {
            "tags": []
          },
          "execution_count": 18
        }
      ]
    },
    {
      "cell_type": "code",
      "metadata": {
        "id": "L3dOyoxIVM-M"
      },
      "source": [
        "input_shape=x_train[0].shape"
      ],
      "execution_count": 19,
      "outputs": []
    },
    {
      "cell_type": "markdown",
      "metadata": {
        "id": "29ZORLngVqBa"
      },
      "source": [
        "### Build the Model"
      ]
    },
    {
      "cell_type": "code",
      "metadata": {
        "id": "tGFWTOX1Vn-l"
      },
      "source": [
        "model=Sequential()\n",
        "model.add(Conv2D(filters=32,kernel_size=(3,3),activation='relu',input_shape=input_shape))\n",
        "model.add(Conv2D(filters=64,kernel_size=(3,3),activation='relu'))\n",
        "model.add(MaxPool2D(2,2))\n",
        "model.add(Dropout(0.25))\n",
        "\n",
        "model.add(Flatten())\n",
        "model.add(Dense(128,activation='relu'))\n",
        "model.add(Dropout(0.5))\n",
        "model.add(Dense(10,activation='softmax'))"
      ],
      "execution_count": 25,
      "outputs": []
    },
    {
      "cell_type": "code",
      "metadata": {
        "colab": {
          "base_uri": "https://localhost:8080/"
        },
        "id": "TiT60HoMXJZB",
        "outputId": "b619513b-1f5e-48fb-a4c5-a1dd9c0c794c"
      },
      "source": [
        "model.summary()"
      ],
      "execution_count": 26,
      "outputs": [
        {
          "output_type": "stream",
          "text": [
            "Model: \"sequential_4\"\n",
            "_________________________________________________________________\n",
            "Layer (type)                 Output Shape              Param #   \n",
            "=================================================================\n",
            "conv2d_2 (Conv2D)            (None, 26, 26, 32)        320       \n",
            "_________________________________________________________________\n",
            "conv2d_3 (Conv2D)            (None, 24, 24, 64)        18496     \n",
            "_________________________________________________________________\n",
            "max_pooling2d (MaxPooling2D) (None, 12, 12, 64)        0         \n",
            "_________________________________________________________________\n",
            "dropout (Dropout)            (None, 12, 12, 64)        0         \n",
            "_________________________________________________________________\n",
            "flatten (Flatten)            (None, 9216)              0         \n",
            "_________________________________________________________________\n",
            "dense (Dense)                (None, 128)               1179776   \n",
            "_________________________________________________________________\n",
            "dropout_1 (Dropout)          (None, 128)               0         \n",
            "_________________________________________________________________\n",
            "dense_1 (Dense)              (None, 10)                1290      \n",
            "=================================================================\n",
            "Total params: 1,199,882\n",
            "Trainable params: 1,199,882\n",
            "Non-trainable params: 0\n",
            "_________________________________________________________________\n"
          ],
          "name": "stdout"
        }
      ]
    },
    {
      "cell_type": "markdown",
      "metadata": {
        "id": "LcbpcWf7X5iN"
      },
      "source": [
        "## Compile the Model"
      ]
    },
    {
      "cell_type": "code",
      "metadata": {
        "id": "63NRRe45XxBG"
      },
      "source": [
        "model.compile(optimizer='adam',loss='sparse_categorical_crossentropy',metrics=['accuracy'])"
      ],
      "execution_count": 27,
      "outputs": []
    },
    {
      "cell_type": "code",
      "metadata": {
        "colab": {
          "base_uri": "https://localhost:8080/"
        },
        "id": "-_Tpd1-wYub8",
        "outputId": "490b6714-523b-4359-b048-20ab8334b83d"
      },
      "source": [
        "history=model.fit(x_train,y_train,batch_size=128,epochs=10,verbose=1,validation_data=(x_test,y_test))"
      ],
      "execution_count": 28,
      "outputs": [
        {
          "output_type": "stream",
          "text": [
            "Epoch 1/10\n",
            "469/469 [==============================] - 145s 307ms/step - loss: 0.2404 - accuracy: 0.9258 - val_loss: 0.0555 - val_accuracy: 0.9815\n",
            "Epoch 2/10\n",
            "469/469 [==============================] - 143s 305ms/step - loss: 0.0859 - accuracy: 0.9743 - val_loss: 0.0398 - val_accuracy: 0.9865\n",
            "Epoch 3/10\n",
            "469/469 [==============================] - 142s 304ms/step - loss: 0.0611 - accuracy: 0.9814 - val_loss: 0.0390 - val_accuracy: 0.9879\n",
            "Epoch 4/10\n",
            "469/469 [==============================] - 142s 302ms/step - loss: 0.0517 - accuracy: 0.9836 - val_loss: 0.0305 - val_accuracy: 0.9908\n",
            "Epoch 5/10\n",
            "469/469 [==============================] - 143s 305ms/step - loss: 0.0432 - accuracy: 0.9866 - val_loss: 0.0271 - val_accuracy: 0.9908\n",
            "Epoch 6/10\n",
            "469/469 [==============================] - 141s 300ms/step - loss: 0.0390 - accuracy: 0.9876 - val_loss: 0.0294 - val_accuracy: 0.9897\n",
            "Epoch 7/10\n",
            "469/469 [==============================] - 142s 304ms/step - loss: 0.0349 - accuracy: 0.9887 - val_loss: 0.0227 - val_accuracy: 0.9928\n",
            "Epoch 8/10\n",
            "469/469 [==============================] - 141s 302ms/step - loss: 0.0291 - accuracy: 0.9901 - val_loss: 0.0225 - val_accuracy: 0.9922\n",
            "Epoch 9/10\n",
            "469/469 [==============================] - 143s 304ms/step - loss: 0.0289 - accuracy: 0.9905 - val_loss: 0.0247 - val_accuracy: 0.9934\n",
            "Epoch 10/10\n",
            "469/469 [==============================] - 144s 307ms/step - loss: 0.0252 - accuracy: 0.9921 - val_loss: 0.0266 - val_accuracy: 0.9930\n"
          ],
          "name": "stdout"
        }
      ]
    },
    {
      "cell_type": "markdown",
      "metadata": {
        "id": "ceSSn9fIh_vq"
      },
      "source": [
        "## Plotting"
      ]
    },
    {
      "cell_type": "code",
      "metadata": {
        "colab": {
          "base_uri": "https://localhost:8080/",
          "height": 573
        },
        "id": "C8mtxvvgY8su",
        "outputId": "347f1d77-d048-4ac3-cb90-5d32aab7e909"
      },
      "source": [
        "plt.plot(history.history[\"accuracy\"])\n",
        "plt.plot(history.history[\"val_accuracy\"])\n",
        "plt.xlabel(\"Epochs\")\n",
        "plt.ylabel(\"Accuracy\")\n",
        "plt.title(\"Accuracy Curve\")\n",
        "plt.legend([\"train\",\"validation\"])\n",
        "plt.show()\n",
        "\n",
        "\n",
        "plt.plot(history.history[\"loss\"])\n",
        "plt.plot(history.history[\"val_loss\"])\n",
        "plt.xlabel(\"Epochs\")\n",
        "plt.ylabel(\"Loss\")\n",
        "plt.title(\"Loss Curve\")\n",
        "plt.legend([\"train\",\"validation\"])\n",
        "plt.show()"
      ],
      "execution_count": 30,
      "outputs": [
        {
          "output_type": "display_data",
          "data": {
            "image/png": "[encoded data removed]",
            "text/plain": [
              "<Figure size 432x288 with 1 Axes>"
            ]
          },
          "metadata": {
            "tags": [],
            "needs_background": "light"
          }
        },
        {
          "output_type": "display_data",
          "data": {
            "image/png": "[encoded data removed]",
            "text/plain": [
              "<Figure size 432x288 with 1 Axes>"
            ]
          },
          "metadata": {
            "tags": [],
            "needs_background": "light"
          }
        }
      ]
    },
    {
      "cell_type": "code",
      "metadata": {
        "id": "A7TaWzJQiqbK"
      },
      "source": [
        ""
      ],
      "execution_count": null,
      "outputs": []
    }
  ]
}